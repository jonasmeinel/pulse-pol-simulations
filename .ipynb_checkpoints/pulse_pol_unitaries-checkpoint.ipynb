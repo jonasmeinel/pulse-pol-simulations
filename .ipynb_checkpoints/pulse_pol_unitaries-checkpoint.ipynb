{
 "cells": [
  {
   "cell_type": "code",
   "execution_count": 7,
   "id": "contemporary-greenhouse",
   "metadata": {},
   "outputs": [],
   "source": [
    "import numpy as np\n",
    "import matplotlib.pyplot as plt\n",
    "from qutip import *"
   ]
  },
  {
   "cell_type": "code",
   "execution_count": 8,
   "id": "complex-cooler",
   "metadata": {},
   "outputs": [],
   "source": [
    "#NV in (0, -1) subspace\n",
    "sz_e = (sigmaz()-qeye(2))*0.5\n",
    "sz = tensor(sz_e, qeye(2))\n",
    "sx = tensor(sigmax()*0.5, qeye(2))\n",
    "sy = tensor(sigmay()*0.5, qeye(2))\n",
    "\n",
    "#13C is spin 1/2\n",
    "iz = tensor(qeye(2), sigmaz()*0.5)\n",
    "ix = tensor(qeye(2), sigmax()*0.5)\n",
    "#del(s_z)"
   ]
  },
  {
   "cell_type": "code",
   "execution_count": 9,
   "id": "intimate-blair",
   "metadata": {},
   "outputs": [
    {
     "data": {
      "text/plain": [
       "6542.056074766355"
      ]
     },
     "execution_count": 9,
     "metadata": {},
     "output_type": "execute_result"
    }
   ],
   "source": [
    "gamma = 10.7*1e-4\n",
    "B = 7/gamma\n",
    "B"
   ]
  },
  {
   "cell_type": "code",
   "execution_count": 24,
   "id": "complex-premiere",
   "metadata": {},
   "outputs": [],
   "source": [
    "class NV:\n",
    "    def __init__(self, c13_zz=0.09,c13_zx=0.046,B=6500,delta=0,Omega=10,N=60):\n",
    "        self.C13_zz = c13_zz\n",
    "        self.C13_zx = c13_zx\n",
    "        self.B = B\n",
    "\n",
    "        self.Delta = delta *2*np.pi\n",
    "        self.Omega = Omega *2*np.pi\n",
    "        self.N = N\n",
    "        self.fid = 0.0689\n",
    "   \n",
    "    def get_h_fid(self):\n",
    "        gamma_n = 10.7*1e-4 # MHz/G\n",
    "        self.Hfid = iz*gamma_n*self.B*2*np.pi + 2*np.pi*sz*iz*self.C13_zz + 2*np.pi*sz*ix*self.C13_zx + self.Delta * sz\n",
    "        return self.Hfid\n",
    "    \n",
    "    def get_h_pulse(self,phi=0):\n",
    "        gamma_n = 10.7*1e-4 # MHz/G\n",
    "        Hpulse =  iz*gamma_n*self.B*2*np.pi + 2*np.pi*sz*iz*self.C13_zz + 2*np.pi*sz*ix*self.C13_zx + self.Delta * sz+ self.Omega * (np.cos(np.deg2rad(phi)) * sx + np.sin(np.deg2rad(phi)) * sy)\n",
    "        return Hpulse\n",
    "    \n",
    "    def get_unitaries(self,fid=0.100):\n",
    "        electron_pi = 0.05 #mus \n",
    "        fid_time = fid - electron_pi\n",
    "        if fid_time < 0: return \n",
    "        \n",
    "        self.Upi2x = (self.get_h_pulse(phi=0)*1j*electron_pi*0.5).expm()\n",
    "        self.Upi2y = (self.get_h_pulse(phi=90)*1j*electron_pi*0.5).expm()\n",
    "        self.Upix = (self.get_h_pulse(phi=0)*1j*electron_pi).expm()\n",
    "        self.Upiy = (self.get_h_pulse(phi=90)*1j*electron_pi).expm()\n",
    "        self.Ufid = (self.get_h_fid()*1j*fid_time * 0.5).expm()\n",
    "        \n",
    "        \n",
    "    def get_sequence(self,fid = 0.10000):\n",
    "        \n",
    "        self.get_unitaries(fid=fid)\n",
    "\n",
    "        Us = []\n",
    "        for k in range(self.N):\n",
    "            for i in range(2):\n",
    "                if i%2==0:\n",
    "                    Us.append(self.Upi2x)\n",
    "                else:\n",
    "                    Us.append(self.Upi2y)\n",
    "                    \n",
    "                for j in range(4):\n",
    "                    Us.append(self.Ufid)\n",
    "                    if j%2 == 0:\n",
    "                        Us.append(self.Upix)\n",
    "                    else:\n",
    "                        Us.append(self.Upiy)\n",
    "                    Us.append(self.Ufid)\n",
    "                if i%2==0:\n",
    "                    Us.append(self.Upi2x)\n",
    "                else:\n",
    "                    Us.append(self.Upi2y)\n",
    "        self.seq = Us \n",
    "        return Us\n",
    "    \n",
    "    def evolve(self, rho, seq):        \n",
    "        rho1 = rho\n",
    "        rho_list = []\n",
    "        for s in seq:\n",
    "            if isinstance(s, Qobj):\n",
    "                rho1 = s*rho1*s.dag()\n",
    "            elif isinstance(s, float):\n",
    "                U = (self.H[i]*1j*s).expm()\n",
    "                rho1 = U*rho1*U.dag()\n",
    "            elif isinstance(s, dict):\n",
    "                out = mesolve(rho0=rho1, H=self.H, c_ops=[tensor(sigmaz(),qeye(2))], tlist=np.linspace(0,s['T_c'], 10), \n",
    "                          options = Options(nsteps=1e5))\n",
    "                return out.states[-1]\n",
    "            rho_list.append(rho1)\n",
    "        return rho1, rho_list\n",
    "    \n",
    "    def experiment(self):\n",
    "        Pi = 1\n",
    "        rho = tensor(fock_dm(2,0), qeye(2)*0.5)\n",
    "        self.get_sequence(fid = self.fid)\n",
    "        rho1,rho_list = self.evolve(rho, self.seq)\n",
    "        rho_list.insert(0,rho)\n",
    "        return rho1,rho_list\n",
    "    \n",
    "   \n",
    "    \n",
    "    \n",
    "    \n",
    "#create random bath:\n",
    "#C13_zz_b = np.random.normal(loc = 0, scale =0.15, size=5)#[0.13, 0.13,0.1, 0.04,0.002,0.05, 0.1]\n",
    "#C13_zx_b = np.random.normal(loc=0,scale=0.15, size=5)\n",
    "\n",
    "#add two known spins to it\n",
    "#C13_zz = np.array([-200.73436071,52.2228743806])*1e-3\n",
    "#C13_zx = np.array([73.365909271,143.61522982])*1e-3\n",
    "#C13_zz = np.append(C13_zz, C13_zz_b)\n",
    "#C13_zx = np.append(C13_zx, C13_zx_b)\n",
    "\n",
    "#add two known spins to it\n",
    "#C13_zz = np.array([52.2228743806])*1e-3\n",
    "#C13_zx = np.array([143.61522982])*1e-3\n",
    "#C13_zz = np.append(C13_zz, C13_zz_b)\n",
    "#C13_zx = np.append(C13_zx, C13_zx_b)\n",
    "\n",
    "mynv = NV()\n",
    "\n"
   ]
  },
  {
   "cell_type": "code",
   "execution_count": 25,
   "id": "global-faculty",
   "metadata": {},
   "outputs": [],
   "source": [
    "rho1,rho_list = mynv.experiment()"
   ]
  },
  {
   "cell_type": "code",
   "execution_count": 26,
   "id": "trained-respondent",
   "metadata": {},
   "outputs": [
    {
     "name": "stdout",
     "output_type": "stream",
     "text": [
      "0.49689012096495166\n"
     ]
    },
    {
     "data": {
      "image/png": "[encoded data removed]",
      "text/plain": [
       "<Figure size 432x288 with 1 Axes>"
      ]
     },
     "metadata": {
      "needs_background": "light"
     },
     "output_type": "display_data"
    }
   ],
   "source": [
    "def get_expectation(rho_list,op = sx):\n",
    "    expectation = []\n",
    "    for j, rho in enumerate(rho_list):\n",
    "        expectation.append(expect(rho, op))\n",
    "    return expectation\n",
    "\n",
    "#plt.plot(get_expectation(rho_list,sz))\n",
    "plt.plot(get_expectation(rho_list,iz))\n",
    "\n",
    "expectation = get_expectation(rho_list,iz)\n",
    "print(expectation[-1])"
   ]
  },
  {
   "cell_type": "code",
   "execution_count": 28,
   "id": "administrative-lighter",
   "metadata": {},
   "outputs": [
    {
     "name": "stdout",
     "output_type": "stream",
     "text": [
      "0\n",
      "20\n",
      "40\n",
      "60\n",
      "80\n"
     ]
    },
    {
     "name": "stderr",
     "output_type": "stream",
     "text": [
      "WARNING:matplotlib.legend:No handles with labels found to put in legend.\n"
     ]
    },
    {
     "data": {
      "text/plain": [
       "<matplotlib.legend.Legend at 0x7fcaf64b3b50>"
      ]
     },
     "execution_count": 28,
     "metadata": {},
     "output_type": "execute_result"
    },
    {
     "data": {
      "image/png": "[encoded data removed]",
      "text/plain": [
       "<Figure size 432x288 with 1 Axes>"
      ]
     },
     "metadata": {
      "needs_background": "light"
     },
     "output_type": "display_data"
    }
   ],
   "source": [
    "tau_fids = np.linspace(0.067,0.071,100)\n",
    "detection = []\n",
    "for i, tau_fid in enumerate(tau_fids):\n",
    "    if i%20==0: print(i)\n",
    "    mynv.fid = tau_fid\n",
    "    mynv.Delta = 0\n",
    "    mynv.N = 60\n",
    "    rho1,rho_list = mynv.experiment()\n",
    "    detection.append(get_expectation([rho1],iz)[-1])\n",
    "plt.plot(tau_fids,detection)\n",
    "plt.legend()"
   ]
  },
  {
   "cell_type": "code",
   "execution_count": 15,
   "id": "greek-imaging",
   "metadata": {},
   "outputs": [
    {
     "name": "stderr",
     "output_type": "stream",
     "text": [
      "WARNING:matplotlib.legend:No handles with labels found to put in legend.\n"
     ]
    },
    {
     "data": {
      "text/plain": [
       "<matplotlib.legend.Legend at 0x7fcaf6f7e400>"
      ]
     },
     "execution_count": 15,
     "metadata": {},
     "output_type": "execute_result"
    },
    {
     "data": {
      "image/png": "[encoded data removed]",
      "text/plain": [
       "<Figure size 432x288 with 1 Axes>"
      ]
     },
     "metadata": {
      "needs_background": "light"
     },
     "output_type": "display_data"
    }
   ],
   "source": [
    "plt.plot(tau_fids,detection)\n",
    "plt.vlines(0.0689,0.02,0.,color='red')\n",
    "plt.legend()"
   ]
  },
  {
   "cell_type": "code",
   "execution_count": 118,
   "id": "compliant-least",
   "metadata": {},
   "outputs": [
    {
     "data": {
      "text/plain": [
       "0.25"
      ]
     },
     "execution_count": 118,
     "metadata": {},
     "output_type": "execute_result"
    }
   ],
   "source": [
    "mynv.fid"
   ]
  },
  {
   "cell_type": "code",
   "execution_count": null,
   "id": "directed-distributor",
   "metadata": {},
   "outputs": [],
   "source": []
  },
  {
   "cell_type": "code",
   "execution_count": null,
   "id": "advisory-sleeve",
   "metadata": {},
   "outputs": [],
   "source": []
  }
 ],
 "metadata": {
  "kernelspec": {
   "display_name": "Python 3",
   "language": "python",
   "name": "python3"
  },
  "language_info": {
   "codemirror_mode": {
    "name": "ipython",
    "version": 3
   },
   "file_extension": ".py",
   "mimetype": "text/x-python",
   "name": "python",
   "nbconvert_exporter": "python",
   "pygments_lexer": "ipython3",
   "version": "3.8.10"
  }
 },
 "nbformat": 4,
 "nbformat_minor": 5
}
